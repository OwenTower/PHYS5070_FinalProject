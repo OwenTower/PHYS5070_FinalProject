{
 "cells": [
  {
   "cell_type": "markdown",
   "metadata": {
    "deletable": false,
    "editable": false,
    "nbgrader": {
     "cell_type": "markdown",
     "checksum": "ab0b1e99daecdbccb180f0d9679696d2",
     "grade": false,
     "grade_id": "cell-334f5dfc37a21877",
     "locked": true,
     "schema_version": 3,
     "solution": false,
     "task": false
    }
   },
   "source": [
    "# Final project proposal form\n",
    "\n",
    "## PHYS 5070, Spring 2021\n",
    "\n",
    "This form is for description of your plans for the final project this semester.  The final projects have to be (obviously) Python-based coding projects that solve some physics-related problem.  This could be a simulation of an interesting system, programming a microcontroller for your lab, or detailed analysis of some physics data.  \n",
    "\n",
    "(_Note:_ if you work with data, I want to see more than pure data analysis - some kind of simulation, use of machine learning, etc.  The point is to make sure the project is a test of your overall programming ability; pure statistical analysis is a bit too narrow.)\n",
    "\n",
    "__Final projects will be submitted as GitHub repositories.__  For team projects in particular, it's important to work in the repository so that I can see individual commits to get an idea of who contributed what code.\n",
    "\n",
    "If you are working in a team, __only one proposal per team__ is necessary.\n",
    "\n",
    "\n",
    "## Rubric\n",
    "\n",
    "All final projects will be graded on the following criteria:\n",
    "\n",
    "- __Python coding: 40%__\n",
    "\n",
    "Does the code work as intended?  Are there bugs or edge cases that have not been dealt with?  Does the project demonstrate the ability to use Python to solve problems?\n",
    "\n",
    "- __Test suite: 20%__\n",
    "\n",
    "Is there a _clearly-labeled_ Python script or notebook containing tests for the main code base?  Do the tests all pass?  Are the tests non-trivial and comparing to known results (not just code to code?)\n",
    "\n",
    "- __Documentation: 10%__\n",
    "\n",
    "Is the code well-documented?  Documentation includes, but is not limited to: descriptive variable names, docstrings for functions, and a README file for the repository.\n",
    "\n",
    "- __Physics results and presentation: 30%__\n",
    "\n",
    "Does the project achieve the goals described in the proposal, or at least make significant progress towards them?  Is the presentation clear and understandable, with effective use of plots and descriptive text?"
   ]
  },
  {
   "cell_type": "markdown",
   "metadata": {
    "deletable": false,
    "editable": false,
    "nbgrader": {
     "cell_type": "markdown",
     "checksum": "bb3a2c2c33295bb5d8dd9a746f02a066",
     "grade": false,
     "grade_id": "cell-155edc5d2221b88a",
     "locked": true,
     "schema_version": 3,
     "solution": false,
     "task": false
    }
   },
   "source": [
    "## 1. Project overview\n",
    "\n",
    "Who are the members of your project team?  (__Maximum of 3__)"
   ]
  },
  {
   "cell_type": "markdown",
   "metadata": {
    "deletable": false,
    "nbgrader": {
     "cell_type": "markdown",
     "checksum": "7222d26b389fa35cecda1405433471c5",
     "grade": true,
     "grade_id": "cell-8fabf4873e13bff2",
     "locked": false,
     "points": 0,
     "schema_version": 3,
     "solution": true,
     "task": false
    }
   },
   "source": [
    "Tom Hardin, Bjorn Summer, Owen Tower"
   ]
  },
  {
   "cell_type": "markdown",
   "metadata": {
    "deletable": false,
    "editable": false,
    "nbgrader": {
     "cell_type": "markdown",
     "checksum": "223aa7cb4a85f5cc76199bb333d93368",
     "grade": false,
     "grade_id": "cell-56739a7fb71b09c4",
     "locked": true,
     "schema_version": 3,
     "solution": false,
     "task": false
    }
   },
   "source": [
    "Give an overview of your proposed project in a few sentences.  What is the main goal or problem you are trying to solve?"
   ]
  },
  {
   "cell_type": "markdown",
   "metadata": {
    "deletable": false,
    "nbgrader": {
     "cell_type": "markdown",
     "checksum": "a1c657086024a4ad9614422f02723842",
     "grade": true,
     "grade_id": "cell-1af028a33ee50594",
     "locked": false,
     "points": 0,
     "schema_version": 3,
     "solution": true,
     "task": false
    }
   },
   "source": [
    "The main goal of our project is to use Machine learning to analyze the behavior of solar flares over the most recent solar cycle. We will be using different machine learning techniques, namely a genetic evolutionary algorithm, to analyze data taken from the NASA GOES15 satellite. Using this technique, we aim to determine to total energy of solar flares of various energies (or sub-classes), and potentially determine the frequency at which certain energy flares occur."
   ]
  },
  {
   "cell_type": "markdown",
   "metadata": {},
   "source": [
    "## Example Flare/Analysis from the class Tom and I TA'd for:"
   ]
  },
  {
   "cell_type": "code",
   "execution_count": 11,
   "metadata": {},
   "outputs": [
    {
     "data": {
      "image/png": "[encoded data removed]",
      "text/plain": [
       "<Figure size 432x288 with 1 Axes>"
      ]
     },
     "metadata": {
      "needs_background": "light"
     },
     "output_type": "display_data"
    }
   ],
   "source": [
    "import pandas as pd\n",
    "import numpy as np\n",
    "import matplotlib.pyplot as plt\n",
    "\n",
    "solar_data = pd.read_csv('noaa_goes15_xrs_1m_91017.csv')     # Import data using pandas library\n",
    "\n",
    "##### Calculate to power from solar irradiance #####\n",
    "\n",
    "# Calculate power in ergs/s. Watch the lecture video if you need help with this.\n",
    "w2erg = 10**7 # Conversion factors from watts to ergs\n",
    "int_m2 = 4*np.pi*(1.496*10**11)**2 # area to integrate over\n",
    "solar_data['longwave (W/m^2)'] = solar_data['longwave (W/m^2)']*w2erg*int_m2     \n",
    "\n",
    "# Rename dataframe index 1 -- we wrote this for you, no need to edit this code\n",
    "solar_data = solar_data.rename(columns={'longwave (W/m^2)': 'longwave (ergs/s)'}) \n",
    "\n",
    "\n",
    "##### Covert time to seconds from milliseconds #####\n",
    "\n",
    "# Convert miliseconds to seconds\n",
    "solar_data['time (milliseconds since 1970-01-01)'] = solar_data['time (milliseconds since 1970-01-01)']/100\n",
    "\n",
    "\n",
    "#### Convert to elasped time from start of OUR data #####\n",
    "solar_data.iloc[:,0] = solar_data.iloc[:,0]-solar_data.iloc[0,0]\n",
    "#################################################################\n",
    "\n",
    "plt.plot(solar_data.iloc[:,0], solar_data.iloc[:,1])  # Plot the solar data\n",
    "plt.title(\"Solar Flare\")\n",
    "plt.ylabel(\"Power (ergs/s)\")\n",
    "plt.xlabel(\"Time (s)\")\n",
    "\n",
    "plt.show()\n"
   ]
  },
  {
   "cell_type": "markdown",
   "metadata": {},
   "source": [
    "<img src=\"Powerlaw_alpha.png\">\n",
    "\n",
    "This is a figure from Shibata et. al (2012), and depicts the flare frequencies vs energies for different papers. The slopes (the alpha values) are what we hope to reproduce in this analysis by using ML techniques to accurately identify flares and find the energies of these flares."
   ]
  },
  {
   "cell_type": "markdown",
   "metadata": {
    "deletable": false,
    "editable": false,
    "nbgrader": {
     "cell_type": "markdown",
     "checksum": "6e51b1cb3b121d3052906e49499c358c",
     "grade": false,
     "grade_id": "cell-23f5305a6e20f07d",
     "locked": true,
     "schema_version": 3,
     "solution": false,
     "task": false
    }
   },
   "source": [
    "## 2. Project details\n",
    "\n",
    "Aside from standard Python modules (i.e. things that we've seen in this class or other extremely common and/or built-in modules), do you expect your project to have any external dependencies?\n",
    "\n",
    "(__If yes__, you will be asked to briefly describe these modules as part of your documentation.)"
   ]
  },
  {
   "cell_type": "markdown",
   "metadata": {
    "deletable": false,
    "nbgrader": {
     "cell_type": "markdown",
     "checksum": "f8f3cf83121ec0eed3a82c92d20f163f",
     "grade": true,
     "grade_id": "cell-9630a09e4f2dbe40",
     "locked": false,
     "points": 0,
     "schema_version": 3,
     "solution": true,
     "task": false
    }
   },
   "source": [
    "YOUR ANSWER HERE"
   ]
  },
  {
   "cell_type": "markdown",
   "metadata": {
    "deletable": false,
    "editable": false,
    "nbgrader": {
     "cell_type": "markdown",
     "checksum": "c3e956bb3144e61073e7d4f90aa3b62b",
     "grade": false,
     "grade_id": "cell-95e12e7e5fa092ae",
     "locked": true,
     "schema_version": 3,
     "solution": false,
     "task": false
    }
   },
   "source": [
    "Will your project require any external datasets?\n",
    "\n",
    "(__If yes__, what is your plan for accessing the data?  Is it public?  If not, are you allowed to share it with me for grading purposes?)"
   ]
  },
  {
   "cell_type": "markdown",
   "metadata": {
    "deletable": false,
    "nbgrader": {
     "cell_type": "markdown",
     "checksum": "37ef1ca52402b53fe99bcbba8c466611",
     "grade": true,
     "grade_id": "cell-bea2a5f9f65d00c2",
     "locked": false,
     "points": 0,
     "schema_version": 3,
     "solution": true,
     "task": false
    }
   },
   "source": [
    "Yes, the data is public. \n",
    "\n",
    "It will be using data from the following link: https://lasp.colorado.edu/space-weather-portal/data?active-range=%5B1425945600000,1426896000000%5D&outer-range=%5B1394409600000,1457481600000%5D&plots=%5B%5D\n",
    "\n",
    "Tom and I both TA'd the PHY1140 lab that did seperate analysis for individual flares from the most recent solar cycle. So, it'll be really interesting to see if we can get some results that we can compare with the class data. For the class, students analyzed X, C, and M class flares from the most recent solar cycle (2012-2020). They analyzed data from the longwave one minute average from the NASA GOES 15 satellite."
   ]
  },
  {
   "cell_type": "markdown",
   "metadata": {
    "deletable": false,
    "editable": false,
    "nbgrader": {
     "cell_type": "markdown",
     "checksum": "5d9fe84bc3c6aa37f4bd173aea0890f7",
     "grade": false,
     "grade_id": "cell-ea5be85df322451f",
     "locked": true,
     "schema_version": 3,
     "solution": false,
     "task": false
    }
   },
   "source": [
    "## 3. Overall plan and scope\n",
    "\n",
    "Keeping in mind that you have until the end of the semester to finish, describe the _scope_ of your project: what are the major steps you plan to complete?  (It's fine to have a project that only finishes part of the overall goal you've laid out, as long as you're clear about what you what to complete.)"
   ]
  },
  {
   "cell_type": "markdown",
   "metadata": {
    "deletable": false,
    "nbgrader": {
     "cell_type": "markdown",
     "checksum": "58900489d9b995981f9c6051226303d0",
     "grade": true,
     "grade_id": "cell-96bf83c76cae1fff",
     "locked": false,
     "points": 0,
     "schema_version": 3,
     "solution": true,
     "task": false
    }
   },
   "source": [
    "The goals of the project are going to be divided into a few main parts:\n",
    "\n",
    "### 1) Accurately classify the subclass of flares in the desired datasets using machine learning. The data is given in units of Watts/m^2 and is recorded in units of time (data taken every 60 seconds)\n",
    "\n",
    "\n",
    "### 2) From here, we will hopefully be able to extract the energy of the flares while sifting out the flares from the noisy, surrounding data.\n",
    "\n",
    "### 3) Finally, we hope to extract the $\\alpha$ value of the power-law slope, which is used to relate the frequency of flares to the energy of each individual flare"
   ]
  },
  {
   "cell_type": "markdown",
   "metadata": {
    "deletable": false,
    "editable": false,
    "nbgrader": {
     "cell_type": "markdown",
     "checksum": "3890ad92f5962b9b831ec73731092710",
     "grade": false,
     "grade_id": "cell-2728dfc14b1c8bef",
     "locked": true,
     "schema_version": 3,
     "solution": false,
     "task": false
    }
   },
   "source": [
    "__Only if you are working with a team__, give a rough plan for how you intend to divide up the work.  (You don't have to stick to this perfectly, but I want to make sure you think it through.)"
   ]
  },
  {
   "cell_type": "markdown",
   "metadata": {
    "deletable": false,
    "nbgrader": {
     "cell_type": "markdown",
     "checksum": "e8e8f7347274cd048e3890111014b38b",
     "grade": true,
     "grade_id": "cell-718ca2ea6049bee2",
     "locked": false,
     "points": 0,
     "schema_version": 3,
     "solution": true,
     "task": false
    }
   },
   "source": [
    "YOUR ANSWER HERE:\n",
    "\n",
    "We plan to really go through each step of the work together. For step 1, we all plan to work together to figure out how to download the data and get it into a form so that it can be fed into the evolutionary algorithm. From there, we plan on breaking up the processing of the data so that the classification and energy of the flares can be extracted. Finally, we all plan to find the alpha values individually and hope to confirm our results by comparing our findings."
   ]
  },
  {
   "cell_type": "markdown",
   "metadata": {
    "deletable": false,
    "editable": false,
    "nbgrader": {
     "cell_type": "markdown",
     "checksum": "0ea4fc4866a20a47b7eaa1f390b57136",
     "grade": false,
     "grade_id": "cell-48c33d81a2e089ac",
     "locked": true,
     "schema_version": 3,
     "solution": false,
     "task": false
    }
   },
   "source": [
    "All final projects will be submitted using GitHub.  Give a link to your GitHub repository for this project.  (You can change this later by e-mailing me if necessary.)"
   ]
  },
  {
   "cell_type": "markdown",
   "metadata": {
    "deletable": false,
    "nbgrader": {
     "cell_type": "markdown",
     "checksum": "25d9f758466542ec5f459c65d4385883",
     "grade": true,
     "grade_id": "cell-d1a50000ecc24e45",
     "locked": false,
     "points": 0,
     "schema_version": 3,
     "solution": true,
     "task": false
    }
   },
   "source": [
    "YOUR ANSWER HERE\n",
    "\n",
    "https://github.com/OwenTower/PHYS5070_FinalProject/tree/main"
   ]
  },
  {
   "cell_type": "code",
   "execution_count": null,
   "metadata": {},
   "outputs": [],
   "source": []
  }
 ],
 "metadata": {
  "kernelspec": {
   "display_name": "Python 3",
   "language": "python",
   "name": "python3"
  },
  "language_info": {
   "codemirror_mode": {
    "name": "ipython",
    "version": 3
   },
   "file_extension": ".py",
   "mimetype": "text/x-python",
   "name": "python",
   "nbconvert_exporter": "python",
   "pygments_lexer": "ipython3",
   "version": "3.7.5"
  }
 },
 "nbformat": 4,
 "nbformat_minor": 5
}
